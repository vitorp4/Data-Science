{
 "cells": [
  {
   "cell_type": "markdown",
   "metadata": {},
   "source": [
    "# Seleção de Atributo com base no Ganho de Informação"
   ]
  },
  {
   "cell_type": "markdown",
   "metadata": {},
   "source": [
    "O ganho de informação (GI) é uma medida que indica o quão informativo é um atributo com relação a separação das classes alvo. A estratégia de seleção de atributos baseada em GI utiliza a entropia como peça fundamental na medição de desordem dos conjuntos. Quanto menor as entropias dos subconjuntos filhos em relação a entropia do conjunto pai, então maior é o ganho de informação oferecido pelo atributo que gerou a divisão."
   ]
  },
  {
   "cell_type": "code",
   "execution_count": 88,
   "metadata": {},
   "outputs": [],
   "source": [
    "import numpy as np\n",
    "import pandas as pd\n",
    "import seaborn as sns\n",
    "\n",
    "sns.set_style('darkgrid')"
   ]
  },
  {
   "cell_type": "markdown",
   "metadata": {},
   "source": [
    "## Descrição do dataset mushrooms"
   ]
  },
  {
   "cell_type": "markdown",
   "metadata": {},
   "source": [
    "O dataset *mushroom* pertence ao bem conhecido repositório de dados da Universidade da Califórnia, em Irvine, e trata de uma série de descrições acerca de diversos tipos de cogumelos. Os atributos deste conjunto de dados variam entre formato, odor, cor, habitat, etc. totalizando 22 diferentes informações sobre as características dos cogumelos. Cada uma das 8124 amostras é classificada como comestível ou venenosa, sendo este o 23º atributo, o atributo alvo.\n",
    "Fonte: http://archive.ics.uci.edu/ml/datasets/Mushroom"
   ]
  },
  {
   "cell_type": "code",
   "execution_count": 89,
   "metadata": {},
   "outputs": [
    {
     "name": "stdout",
     "output_type": "stream",
     "text": [
      "Total de linhas = 8124\n",
      "Total de colunas = 23\n"
     ]
    }
   ],
   "source": [
    "mushrooms = pd.read_csv('mushrooms.csv')\n",
    "print('Total de linhas = {}\\nTotal de colunas = {}'.format(mushrooms.shape[0], mushrooms.shape[1]))"
   ]
  },
  {
   "cell_type": "code",
   "execution_count": 90,
   "metadata": {},
   "outputs": [
    {
     "data": {
      "text/html": [
       "<div>\n",
       "<style scoped>\n",
       "    .dataframe tbody tr th:only-of-type {\n",
       "        vertical-align: middle;\n",
       "    }\n",
       "\n",
       "    .dataframe tbody tr th {\n",
       "        vertical-align: top;\n",
       "    }\n",
       "\n",
       "    .dataframe thead th {\n",
       "        text-align: right;\n",
       "    }\n",
       "</style>\n",
       "<table border=\"1\" class=\"dataframe\">\n",
       "  <thead>\n",
       "    <tr style=\"text-align: right;\">\n",
       "      <th></th>\n",
       "      <th>class</th>\n",
       "      <th>cap-shape</th>\n",
       "      <th>cap-surface</th>\n",
       "      <th>cap-color</th>\n",
       "      <th>bruises</th>\n",
       "      <th>odor</th>\n",
       "      <th>gill-attachment</th>\n",
       "      <th>gill-spacing</th>\n",
       "      <th>gill-size</th>\n",
       "      <th>gill-color</th>\n",
       "      <th>...</th>\n",
       "      <th>stalk-surface-below-ring</th>\n",
       "      <th>stalk-color-above-ring</th>\n",
       "      <th>stalk-color-below-ring</th>\n",
       "      <th>veil-type</th>\n",
       "      <th>veil-color</th>\n",
       "      <th>ring-number</th>\n",
       "      <th>ring-type</th>\n",
       "      <th>spore-print-color</th>\n",
       "      <th>population</th>\n",
       "      <th>habitat</th>\n",
       "    </tr>\n",
       "  </thead>\n",
       "  <tbody>\n",
       "    <tr>\n",
       "      <th>0</th>\n",
       "      <td>p</td>\n",
       "      <td>x</td>\n",
       "      <td>s</td>\n",
       "      <td>n</td>\n",
       "      <td>t</td>\n",
       "      <td>p</td>\n",
       "      <td>f</td>\n",
       "      <td>c</td>\n",
       "      <td>n</td>\n",
       "      <td>k</td>\n",
       "      <td>...</td>\n",
       "      <td>s</td>\n",
       "      <td>w</td>\n",
       "      <td>w</td>\n",
       "      <td>p</td>\n",
       "      <td>w</td>\n",
       "      <td>o</td>\n",
       "      <td>p</td>\n",
       "      <td>k</td>\n",
       "      <td>s</td>\n",
       "      <td>u</td>\n",
       "    </tr>\n",
       "    <tr>\n",
       "      <th>1</th>\n",
       "      <td>e</td>\n",
       "      <td>x</td>\n",
       "      <td>s</td>\n",
       "      <td>y</td>\n",
       "      <td>t</td>\n",
       "      <td>a</td>\n",
       "      <td>f</td>\n",
       "      <td>c</td>\n",
       "      <td>b</td>\n",
       "      <td>k</td>\n",
       "      <td>...</td>\n",
       "      <td>s</td>\n",
       "      <td>w</td>\n",
       "      <td>w</td>\n",
       "      <td>p</td>\n",
       "      <td>w</td>\n",
       "      <td>o</td>\n",
       "      <td>p</td>\n",
       "      <td>n</td>\n",
       "      <td>n</td>\n",
       "      <td>g</td>\n",
       "    </tr>\n",
       "    <tr>\n",
       "      <th>2</th>\n",
       "      <td>e</td>\n",
       "      <td>b</td>\n",
       "      <td>s</td>\n",
       "      <td>w</td>\n",
       "      <td>t</td>\n",
       "      <td>l</td>\n",
       "      <td>f</td>\n",
       "      <td>c</td>\n",
       "      <td>b</td>\n",
       "      <td>n</td>\n",
       "      <td>...</td>\n",
       "      <td>s</td>\n",
       "      <td>w</td>\n",
       "      <td>w</td>\n",
       "      <td>p</td>\n",
       "      <td>w</td>\n",
       "      <td>o</td>\n",
       "      <td>p</td>\n",
       "      <td>n</td>\n",
       "      <td>n</td>\n",
       "      <td>m</td>\n",
       "    </tr>\n",
       "    <tr>\n",
       "      <th>3</th>\n",
       "      <td>p</td>\n",
       "      <td>x</td>\n",
       "      <td>y</td>\n",
       "      <td>w</td>\n",
       "      <td>t</td>\n",
       "      <td>p</td>\n",
       "      <td>f</td>\n",
       "      <td>c</td>\n",
       "      <td>n</td>\n",
       "      <td>n</td>\n",
       "      <td>...</td>\n",
       "      <td>s</td>\n",
       "      <td>w</td>\n",
       "      <td>w</td>\n",
       "      <td>p</td>\n",
       "      <td>w</td>\n",
       "      <td>o</td>\n",
       "      <td>p</td>\n",
       "      <td>k</td>\n",
       "      <td>s</td>\n",
       "      <td>u</td>\n",
       "    </tr>\n",
       "    <tr>\n",
       "      <th>4</th>\n",
       "      <td>e</td>\n",
       "      <td>x</td>\n",
       "      <td>s</td>\n",
       "      <td>g</td>\n",
       "      <td>f</td>\n",
       "      <td>n</td>\n",
       "      <td>f</td>\n",
       "      <td>w</td>\n",
       "      <td>b</td>\n",
       "      <td>k</td>\n",
       "      <td>...</td>\n",
       "      <td>s</td>\n",
       "      <td>w</td>\n",
       "      <td>w</td>\n",
       "      <td>p</td>\n",
       "      <td>w</td>\n",
       "      <td>o</td>\n",
       "      <td>e</td>\n",
       "      <td>n</td>\n",
       "      <td>a</td>\n",
       "      <td>g</td>\n",
       "    </tr>\n",
       "  </tbody>\n",
       "</table>\n",
       "<p>5 rows × 23 columns</p>\n",
       "</div>"
      ],
      "text/plain": [
       "  class cap-shape cap-surface cap-color bruises odor gill-attachment  \\\n",
       "0     p         x           s         n       t    p               f   \n",
       "1     e         x           s         y       t    a               f   \n",
       "2     e         b           s         w       t    l               f   \n",
       "3     p         x           y         w       t    p               f   \n",
       "4     e         x           s         g       f    n               f   \n",
       "\n",
       "  gill-spacing gill-size gill-color  ... stalk-surface-below-ring  \\\n",
       "0            c         n          k  ...                        s   \n",
       "1            c         b          k  ...                        s   \n",
       "2            c         b          n  ...                        s   \n",
       "3            c         n          n  ...                        s   \n",
       "4            w         b          k  ...                        s   \n",
       "\n",
       "  stalk-color-above-ring stalk-color-below-ring veil-type veil-color  \\\n",
       "0                      w                      w         p          w   \n",
       "1                      w                      w         p          w   \n",
       "2                      w                      w         p          w   \n",
       "3                      w                      w         p          w   \n",
       "4                      w                      w         p          w   \n",
       "\n",
       "  ring-number ring-type spore-print-color population habitat  \n",
       "0           o         p                 k          s       u  \n",
       "1           o         p                 n          n       g  \n",
       "2           o         p                 n          n       m  \n",
       "3           o         p                 k          s       u  \n",
       "4           o         e                 n          a       g  \n",
       "\n",
       "[5 rows x 23 columns]"
      ]
     },
     "execution_count": 90,
     "metadata": {},
     "output_type": "execute_result"
    }
   ],
   "source": [
    "mushrooms.head()   # As 5 primeiras amostras de cogumelos do dataset"
   ]
  },
  {
   "cell_type": "markdown",
   "metadata": {},
   "source": [
    "Por questões de facilidade de armmazenamento, os valores assumidos por cada coluna estão codificados em um único caractere. A tabela abaixo fornece a decodificação para fins de esclarecimento.\n",
    "\n",
    "\n",
    "| Nome do atributo | Possíveis valores |\n",
    "| :-- | :-- |\n",
    "| **class** | **e=edible, p=poisonous** |\n",
    "| cap-shape | b=bell, c=conical, x=convex, f=flat, k=knobbed, s=sunken=s |\n",
    "| cap-surface | f=fibrous, g=grooves, y=scaly, s=smooth |\n",
    "| cap-color | n=brown, b=buff, c=cinnamon, g=gray, r=green, p=pink, u=purple, e=red, w=white, y=yellow |\n",
    "| bruises | t=bruises, f=no |\n",
    "| odor | a=almond, l=anise, c=creosote, y=fishy, f=foul, m=musty, n=none, p=pungent, s=spicy |\n",
    "| gill-attachment | a=attached, d=descending, f=free, n=notched |\n",
    "| gill-spacing | c=close, w=crowded, d=distant |\n",
    "| gill-size | b=broad, n=narrow |\n",
    "| gill-color | k=black, n=brown, b=buff, h=chocolate, g=gray, r=green, o=orange, p=pink, u=purple, e=red, w=white, y=yellow |\n",
    "| stalk-shape | e=enlarging, t=tapering |\n",
    "| stalk-root | b=bulbous, c=club, u=cup, e=equal, r=rhizomorphs, r=rooted, ?=missing |\n",
    "| stalk-surface-above-ring | f=fibrous, y=scaly, k=silky, s=smooth |\n",
    "| stalk-surface-below-ring | f=fibrous, y=scaly, k=silky, s=smooth |\n",
    "| stalk-color-above-ring | n=brown, b=buff, c=cinnamon, g=gray, o=orange, p=pink, e=red, w=white, y=yellow |\n",
    "| stalk-color-below-ring | n=brown, b=buff, c=cinnamon, g=gray, o=orange, p=pink, e=red, w=white, y=yellow |\n",
    "| veil-type | p=partial, u=universal |\n",
    "| veil-color | n=brown, o=orange, w=white, y=yellow |\n",
    "| ring-number | n=none, o=one, t=two |\n",
    "| ring-type | c=cobwebby, e=evanescent, f=flaring, l=large, n=none, p=pendant, s=sheathing, z=zone |\n",
    "| spore-print-color | k=black, n=brown, b=buff, h=chocolate, r=green, o=orange, u=purple, w=white, y=yellow |\n",
    "| population | a=abundant, c=clustered, n=numerous, s=scattered, v=several, y=solitary |\n",
    "| habitat| g=grasses, l=leaves, m=meadows, p=paths, u=urban, w=waste, d=woods |"
   ]
  },
  {
   "cell_type": "code",
   "execution_count": 91,
   "metadata": {},
   "outputs": [
    {
     "data": {
      "text/plain": [
       "class                       0\n",
       "cap-shape                   0\n",
       "cap-surface                 0\n",
       "cap-color                   0\n",
       "bruises                     0\n",
       "odor                        0\n",
       "gill-attachment             0\n",
       "gill-spacing                0\n",
       "gill-size                   0\n",
       "gill-color                  0\n",
       "stalk-shape                 0\n",
       "stalk-root                  0\n",
       "stalk-surface-above-ring    0\n",
       "stalk-surface-below-ring    0\n",
       "stalk-color-above-ring      0\n",
       "stalk-color-below-ring      0\n",
       "veil-type                   0\n",
       "veil-color                  0\n",
       "ring-number                 0\n",
       "ring-type                   0\n",
       "spore-print-color           0\n",
       "population                  0\n",
       "habitat                     0\n",
       "dtype: int64"
      ]
     },
     "execution_count": 91,
     "metadata": {},
     "output_type": "execute_result"
    }
   ],
   "source": [
    "mushrooms.isna().sum()     # quantidade de dados não valorados (NaN) por coluna"
   ]
  },
  {
   "cell_type": "markdown",
   "metadata": {},
   "source": [
    "O dataset está livre de dados não valorados, então podemos seguir em frente sem que seja necessário um tratamento neste sentido."
   ]
  },
  {
   "cell_type": "markdown",
   "metadata": {},
   "source": [
    "## Entropia"
   ]
  },
  {
   "cell_type": "markdown",
   "metadata": {},
   "source": [
    "A entropia é uma medida que quantifica a desordem  dos elementos de um conjunto. Em nossos problemas de extração de características a partir de dados, desejamos que os elementos de um mesmo conjunto compartilhem características comuns. Ou em outras palavras, queremos que as amostras de um mesmo conjunto pertençam a mesma classe.\n",
    "\n",
    "A seguir seque a fórmula geral para a entropia de um conjunto com base em $n$ classes:\n",
    "\n",
    "$$ \\text{entropia} = -p_1\\cdot \\log_2(p_1) - p_2\\cdot \\log_2(p_2) - \\text{ ... } - p_n \\cdot \\log_2(p_n) $$\n",
    "\n",
    "> entropia: entropia do conjunto <br>\n",
    "$p_1$: proporção de amostras da classe 1 <br>\n",
    "$p_2$: proporção de amostras da classe 2 <br>\n",
    "$p_n$: proporção de amostras da classe $n$ <br>\n",
    "$\\log_2()$: logaritmo na base 2"
   ]
  },
  {
   "cell_type": "markdown",
   "metadata": {},
   "source": [
    "Considere os exemplos abaixo. Ambos os conjuntos representam configurações compostas por 2 diferentes classes: triângulo e xis.\n",
    "![title](entropia_ex1.png)\n",
    "* O conjunto A possui 9 amostras, sendo 5 da classe triângulo e 4 da classe xis. Essa configuração exprime a ideia de altíssima desordem ou entropia.\n",
    "* Já o conjunto B possui 3 amostras, sendo todas da classe triângulo e nenhuma da classe xis. Aqui se configura um caso de entropia zero ou desordem mínima."
   ]
  },
  {
   "cell_type": "code",
   "execution_count": 92,
   "metadata": {},
   "outputs": [],
   "source": [
    "def entropy(target):\n",
    "    '''    \n",
    "    Retorna a entropia de um conjunto.\n",
    "\n",
    "    Parâmetros:\n",
    "        target (pandas.Series): Uma série com os rótulos de classe para cada amostra do conjunto.\n",
    "\n",
    "    Retorno:\n",
    "        entropy (float): A entropia do conjunto.   \n",
    "    '''\n",
    "    n_rows = len(target)\n",
    "    entropy = 0\n",
    "    \n",
    "    for c in target.unique():\n",
    "        n_rows_c = len(target[target==c])\n",
    "        proportion = n_rows_c / n_rows\n",
    "        \n",
    "        if(proportion != 0):\n",
    "            entropy -= proportion * np.log2(proportion)\n",
    "        \n",
    "    return entropy"
   ]
  },
  {
   "cell_type": "markdown",
   "metadata": {},
   "source": [
    "Em relação ao dataset *mushroom* vamos calcular a entropia raiz, ou seja, a desordem de todo o conjunto de 8124 amostras disponíveis. Assim como no exemplo, nosso problema se resume a 2 classes, mas dessa vez sendo *e = edible* (comestível) e *p = poisonous* (venenoso). Utilizaremos a função definida acima e passaremos como parâmetro, *mushrooms['class']*, a coluna que contém os rótulos de classe de todas as amostras."
   ]
  },
  {
   "cell_type": "code",
   "execution_count": 93,
   "metadata": {},
   "outputs": [
    {
     "name": "stdout",
     "output_type": "stream",
     "text": [
      "Entropia raiz = 0.9990678968724603\n"
     ]
    }
   ],
   "source": [
    "entropy_root = entropy(mushrooms['class'])    # calculando a entropia raíz\n",
    "print('Entropia raiz = {}'.format(entropy_root))"
   ]
  },
  {
   "cell_type": "code",
   "execution_count": 94,
   "metadata": {},
   "outputs": [
    {
     "name": "stdout",
     "output_type": "stream",
     "text": [
      "Quantidade total de amostras por classe: \n",
      " Comestível = 4208 \n",
      " Venenoso = 3916\n"
     ]
    }
   ],
   "source": [
    "print('Quantidade total de amostras por classe: \\n Comestível = {} \\n Venenoso = {}'\n",
    "      .format(len(mushrooms[mushrooms['class']=='e']), \n",
    "              len(mushrooms[mushrooms['class']=='p'])))"
   ]
  },
  {
   "cell_type": "markdown",
   "metadata": {},
   "source": [
    "## Ganho de Informação"
   ]
  },
  {
   "cell_type": "markdown",
   "metadata": {},
   "source": [
    "Utilizamos o ganho de informação para medir o quanto um atributo é capaz de diminuir a entropia de um conjunto. Pode ser visto como uma função dos graus de desordem do conjunto pai e dos conjuntos filhos resultantes da divisão. Quanta informação determinado atributo é capaz de trazer visando a plena separação das classes?"
   ]
  },
  {
   "cell_type": "markdown",
   "metadata": {},
   "source": [
    "![title](entropia_ex2.png)"
   ]
  },
  {
   "cell_type": "markdown",
   "metadata": {},
   "source": [
    "A fóruma geral do ganho de informação é dada por:\n",
    "\n",
    "$$ GI = \\text{entropia}(\\text{pai})-r_1 \\cdot \\text{entropia}(\\text{filho}_1)-r_2 \\cdot \\text{entropia}(\\text{filho}_2) - \\text{ ... } - r_n \\cdot \\text{entropia}(\\text{filho}_n)$$\n",
    "\n",
    "> GI: ganho de informação <br>\n",
    "entropia(pai): entropia do conjunto pai <br>\n",
    "entropia(filho$_1$): entropia do subconjunto filho$_1$ <br>\n",
    "entropia(filho$_2$): entropia do subconjunto filho$_2$ <br>\n",
    "entropia(filho$_n$): entropia do subconjunto filho$_n$ <br>\n",
    "$r_1$: razão entre o nº de amostras do subconjunto filho 1 e o nº de amostras do conjunto pai <br>\n",
    "$r_2$: razão entre o nº de amostras do subconjunto filho 2 e o nº de amostras do conjunto pai <br>\n",
    "$r_n$: razão entre o nº de amostras do subconjunto filho $n$ e o nº de amostras do conjunto pai\n",
    "\n",
    "Para o exemplo, temos que o ganho de  informação do atributo *Escolaridade* é igual a:\n",
    "\n",
    "$$ GI = 0.92 - \\frac{9}{12}\\cdot0.99 - \\frac{3}{12}\\cdot 0 = 0.1775 $$ "
   ]
  },
  {
   "cell_type": "code",
   "execution_count": 95,
   "metadata": {},
   "outputs": [],
   "source": [
    "def informationGain(attribute, target):\n",
    "    '''    \n",
    "    Retorna o ganho de informação oferecido por determinado atributo.\n",
    "\n",
    "    Parâmetros:\n",
    "        attribute (pandas.Series): Uma série com os valores do atributo para cada amostra do conjunto.\n",
    "        target (pandas.Series): Uma série com os rótulos de classe para cada amostra do conjunto.\n",
    "\n",
    "    Retorno:\n",
    "        information_gain (float): O ganho de informação obtido.   \n",
    "    '''\n",
    "    n_rows = len(target)\n",
    "    information_gain = entropy(target)\n",
    "\n",
    "    for label in attribute.unique():\n",
    "        n_rows_label = len(attribute[attribute==label])\n",
    "        ratio = n_rows_label / n_rows\n",
    "\n",
    "        information_gain -= ratio * entropy(target[attribute==label])\n",
    "\n",
    "    return information_gain"
   ]
  },
  {
   "cell_type": "markdown",
   "metadata": {},
   "source": [
    "Voltando ao estudo dos dados de cogumelos, agora iremos quantificar o ganho de informação oferecido por cada um dos 22 atributos. O conjunto pai será todo o dataset, e ao analisar cada atributo por vez serão gerados os subconjuntos filhos correspondentes. Já sabemos a entropia do conjunto pai que neste caso é exatamente igual a entropia raiz = 0.999. Utilizaremos a função *informationGain* definida acima para encontrar todas as 22 medidas de ganho de informação ordenadas em ordem decrescente. "
   ]
  },
  {
   "cell_type": "code",
   "execution_count": 96,
   "metadata": {},
   "outputs": [
    {
     "data": {
      "text/html": [
       "<div>\n",
       "<style scoped>\n",
       "    .dataframe tbody tr th:only-of-type {\n",
       "        vertical-align: middle;\n",
       "    }\n",
       "\n",
       "    .dataframe tbody tr th {\n",
       "        vertical-align: top;\n",
       "    }\n",
       "\n",
       "    .dataframe thead th {\n",
       "        text-align: right;\n",
       "    }\n",
       "</style>\n",
       "<table border=\"1\" class=\"dataframe\">\n",
       "  <thead>\n",
       "    <tr style=\"text-align: right;\">\n",
       "      <th></th>\n",
       "      <th>Ganho de Informação</th>\n",
       "    </tr>\n",
       "  </thead>\n",
       "  <tbody>\n",
       "    <tr>\n",
       "      <th>odor</th>\n",
       "      <td>0.906075</td>\n",
       "    </tr>\n",
       "    <tr>\n",
       "      <th>spore-print-color</th>\n",
       "      <td>0.480705</td>\n",
       "    </tr>\n",
       "    <tr>\n",
       "      <th>gill-color</th>\n",
       "      <td>0.416978</td>\n",
       "    </tr>\n",
       "    <tr>\n",
       "      <th>ring-type</th>\n",
       "      <td>0.318022</td>\n",
       "    </tr>\n",
       "    <tr>\n",
       "      <th>stalk-surface-above-ring</th>\n",
       "      <td>0.284726</td>\n",
       "    </tr>\n",
       "    <tr>\n",
       "      <th>stalk-surface-below-ring</th>\n",
       "      <td>0.271894</td>\n",
       "    </tr>\n",
       "    <tr>\n",
       "      <th>stalk-color-above-ring</th>\n",
       "      <td>0.253845</td>\n",
       "    </tr>\n",
       "    <tr>\n",
       "      <th>stalk-color-below-ring</th>\n",
       "      <td>0.241416</td>\n",
       "    </tr>\n",
       "    <tr>\n",
       "      <th>gill-size</th>\n",
       "      <td>0.230154</td>\n",
       "    </tr>\n",
       "    <tr>\n",
       "      <th>population</th>\n",
       "      <td>0.201958</td>\n",
       "    </tr>\n",
       "    <tr>\n",
       "      <th>bruises</th>\n",
       "      <td>0.192379</td>\n",
       "    </tr>\n",
       "    <tr>\n",
       "      <th>habitat</th>\n",
       "      <td>0.156834</td>\n",
       "    </tr>\n",
       "    <tr>\n",
       "      <th>stalk-root</th>\n",
       "      <td>0.134818</td>\n",
       "    </tr>\n",
       "    <tr>\n",
       "      <th>gill-spacing</th>\n",
       "      <td>0.100883</td>\n",
       "    </tr>\n",
       "    <tr>\n",
       "      <th>cap-shape</th>\n",
       "      <td>0.048797</td>\n",
       "    </tr>\n",
       "    <tr>\n",
       "      <th>ring-number</th>\n",
       "      <td>0.038453</td>\n",
       "    </tr>\n",
       "    <tr>\n",
       "      <th>cap-color</th>\n",
       "      <td>0.036049</td>\n",
       "    </tr>\n",
       "    <tr>\n",
       "      <th>cap-surface</th>\n",
       "      <td>0.028590</td>\n",
       "    </tr>\n",
       "    <tr>\n",
       "      <th>veil-color</th>\n",
       "      <td>0.023817</td>\n",
       "    </tr>\n",
       "    <tr>\n",
       "      <th>gill-attachment</th>\n",
       "      <td>0.014165</td>\n",
       "    </tr>\n",
       "    <tr>\n",
       "      <th>stalk-shape</th>\n",
       "      <td>0.007517</td>\n",
       "    </tr>\n",
       "    <tr>\n",
       "      <th>veil-type</th>\n",
       "      <td>0.000000</td>\n",
       "    </tr>\n",
       "  </tbody>\n",
       "</table>\n",
       "</div>"
      ],
      "text/plain": [
       "                          Ganho de Informação\n",
       "odor                                 0.906075\n",
       "spore-print-color                    0.480705\n",
       "gill-color                           0.416978\n",
       "ring-type                            0.318022\n",
       "stalk-surface-above-ring             0.284726\n",
       "stalk-surface-below-ring             0.271894\n",
       "stalk-color-above-ring               0.253845\n",
       "stalk-color-below-ring               0.241416\n",
       "gill-size                            0.230154\n",
       "population                           0.201958\n",
       "bruises                              0.192379\n",
       "habitat                              0.156834\n",
       "stalk-root                           0.134818\n",
       "gill-spacing                         0.100883\n",
       "cap-shape                            0.048797\n",
       "ring-number                          0.038453\n",
       "cap-color                            0.036049\n",
       "cap-surface                          0.028590\n",
       "veil-color                           0.023817\n",
       "gill-attachment                      0.014165\n",
       "stalk-shape                          0.007517\n",
       "veil-type                            0.000000"
      ]
     },
     "execution_count": 96,
     "metadata": {},
     "output_type": "execute_result"
    }
   ],
   "source": [
    "index = mushrooms.drop(columns='class').columns\n",
    "IG_atts = [informationGain(mushrooms[att], mushrooms['class']) for att in index]\n",
    "IG = pd.DataFrame(index=index, data={'Ganho de Informação': IG_atts})\n",
    "IG.sort_values('Ganho de Informação', ascending=False)"
   ]
  },
  {
   "cell_type": "markdown",
   "metadata": {},
   "source": [
    "O atributo *odor* se destaca como o atributo que oferece o maior ganho de informação. Isso significa que os subconjuntos  formados por cogumelos com o mesmo *odor* geralmente também pertencem a mesma classe, auxliando na separação entre comestíveis e venenosos. Como revelado anteriormente, tal atributo pode assumir 9 possíveis valores, sendo: \n",
    "\n",
    "|odor | a | l | c | y | f | m |n | p | s|\n",
    "|-- | -- |-- |--|--|--|--|--|--|--|\n",
    "| | almond | anise | creosote | fishy | faul | musty | none | pungent | spicy|\n",
    "\n",
    "Para justificar o porquê do alto ganho de informação, investigaremos a entropia dos 9 subconjuntos."
   ]
  },
  {
   "cell_type": "code",
   "execution_count": 97,
   "metadata": {},
   "outputs": [
    {
     "name": "stdout",
     "output_type": "stream",
     "text": [
      "Odor   Entropia\n",
      "p      0.0\n",
      "a      0.0\n",
      "l      0.0\n",
      "n      0.2141367567812511\n",
      "f      0.0\n",
      "c      0.0\n",
      "y      0.0\n",
      "s      0.0\n",
      "m      0.0\n"
     ]
    }
   ],
   "source": [
    "print('Odor   Entropia')\n",
    "for label in mushrooms['odor'].unique():\n",
    "    print(label, '    ', entropy(mushrooms[mushrooms['odor']==label]['class']))"
   ]
  },
  {
   "cell_type": "markdown",
   "metadata": {},
   "source": [
    "Com exceção do *odor* *n = none* (sem cheiro) todos os outros são subconjuntos puros, possuem apenas cogumelos de 1 das classes. Podemos concluir que se um cogumelo emite algum cheiro, então estaremos confiantes em classificá-lo na classe dos comestíveis ou na classe dos venenosos. Para ajudar ainda mais na compreensão, podemos encontrar a quantidade de cogumelos por *odor* emitido e qual a classe predominante nestes subconjuntos."
   ]
  },
  {
   "cell_type": "code",
   "execution_count": 98,
   "metadata": {},
   "outputs": [
    {
     "data": {
      "image/png": "[encoded data removed]",
      "text/plain": [
       "<Figure size 401.5x360 with 1 Axes>"
      ]
     },
     "metadata": {},
     "output_type": "display_data"
    }
   ],
   "source": [
    "sns.displot(data=mushrooms, x='odor', hue='class', multiple='stack');"
   ]
  },
  {
   "cell_type": "markdown",
   "metadata": {},
   "source": [
    "Se nos for apresentado um novo cogumelo desconhecido que possui cheiro, então podemos classificá-lo com 100% de probabilidade como:\n",
    "* venenoso (*p = poisonous*) se seu *odor* for do tipo *p = pungent*, *f = faul*, *c = creosote*, *y = fishy*, *s = spicy* ou *m = musty*;\n",
    "* comestível (*e = edible*) se seu *odor* for do tipo *a = almond*, *l = anise*.\n",
    "\n",
    "Porém se ele não emitir qualquer tipo de cheiro (*n = none*), teremos um forte indício de 96.6% de chance de que seja comestível, você arriscaria?"
   ]
  },
  {
   "cell_type": "code",
   "execution_count": 99,
   "metadata": {},
   "outputs": [
    {
     "name": "stdout",
     "output_type": "stream",
     "text": [
      "Probabilidade de um cogumelo sem cheiro ser comestível = 0.9659863945578231\n"
     ]
    }
   ],
   "source": [
    "prob = len(mushrooms[(mushrooms['odor']=='n') & (mushrooms['class']=='e')]) / len(mushrooms[mushrooms['odor']=='n'])\n",
    "print('Probabilidade de um cogumelo sem cheiro ser comestível =', prob)"
   ]
  }
 ],
 "metadata": {
  "kernelspec": {
   "display_name": "Python 3",
   "language": "python",
   "name": "python3"
  },
  "language_info": {
   "codemirror_mode": {
    "name": "ipython",
    "version": 3
   },
   "file_extension": ".py",
   "mimetype": "text/x-python",
   "name": "python",
   "nbconvert_exporter": "python",
   "pygments_lexer": "ipython3",
   "version": "3.6.9"
  }
 },
 "nbformat": 4,
 "nbformat_minor": 2
}
