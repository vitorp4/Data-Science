{
 "cells": [
  {
   "cell_type": "markdown",
   "metadata": {},
   "source": [
    "# Recordes de Temperatura em Ann Arbor (2015)"
   ]
  },
  {
   "cell_type": "markdown",
   "metadata": {},
   "source": [
    "O objetivo deste estudo é a elaboração de uma visualização acerca dos recordes de temperatura atingidos no ano de 2015 na cidade de Ann Arbor, Michigan, EUA. Mais precisamente, os recordes são em relação às temperaturas mínimas e máximas registradas no período de 10 anos entre 2005 e 2014. Os dados provêm de um subconjunto do [Daily Global Historical Climatology Network](https://www1.ncdc.noaa.gov/pub/data/ghcn/daily/readme.txt) (GHCN-Daily). Ressaltamos que o GHCN-Daily compreende o registro diário de temperatura a partir de milhares de estações terrestres instaladas ao redor do mundo."
   ]
  },
  {
   "cell_type": "code",
   "execution_count": 94,
   "metadata": {},
   "outputs": [],
   "source": [
    "import matplotlib.pyplot as plt\n",
    "import pandas as pd\n",
    "import numpy as np\n",
    "import matplotlib.dates as mdates\n",
    "\n",
    "%matplotlib inline"
   ]
  },
  {
   "cell_type": "markdown",
   "metadata": {},
   "source": [
    "## Importação e descrição do conjunto de dados\n",
    "\n",
    "Temos disponíveis as seguintes informações para cada registro de temperatura:\n",
    "\n",
    "* **id** : código de identificação da estação coletora\n",
    "* **date** : data no formato YYYY-MM-DD (e.g. 2012-01-24 = 24 de Janeiro de 2012)\n",
    "* **element** : indicador do tipo de registro, podendo ser:\n",
    "    * 'TMAX' : caso  seja um registro de temperatura diária máxima\n",
    "    * 'TMIN' : caso seja um registro de temperatura diária mínima\n",
    "* **data_value** : temperatura (em décimos de ºC)\n",
    "\n",
    "Este conjunto contém apenas dados de estações próximas a **Ann Arbor**. Também devemos considerar que cada estação de coleta reportou uma temperatura de mínimo e outra de máximo durante cada dia ao longo do período de janeiro de 2005 a dezembro de 2015."
   ]
  },
  {
   "cell_type": "code",
   "execution_count": 95,
   "metadata": {
    "scrolled": false
   },
   "outputs": [
    {
     "data": {
      "text/html": [
       "<div>\n",
       "<style scoped>\n",
       "    .dataframe tbody tr th:only-of-type {\n",
       "        vertical-align: middle;\n",
       "    }\n",
       "\n",
       "    .dataframe tbody tr th {\n",
       "        vertical-align: top;\n",
       "    }\n",
       "\n",
       "    .dataframe thead th {\n",
       "        text-align: right;\n",
       "    }\n",
       "</style>\n",
       "<table border=\"1\" class=\"dataframe\">\n",
       "  <thead>\n",
       "    <tr style=\"text-align: right;\">\n",
       "      <th></th>\n",
       "      <th>ID</th>\n",
       "      <th>Date</th>\n",
       "      <th>Element</th>\n",
       "      <th>Data_Value</th>\n",
       "    </tr>\n",
       "  </thead>\n",
       "  <tbody>\n",
       "    <tr>\n",
       "      <th>0</th>\n",
       "      <td>USW00094889</td>\n",
       "      <td>2014-11-12</td>\n",
       "      <td>TMAX</td>\n",
       "      <td>22</td>\n",
       "    </tr>\n",
       "    <tr>\n",
       "      <th>1</th>\n",
       "      <td>USC00208972</td>\n",
       "      <td>2009-04-29</td>\n",
       "      <td>TMIN</td>\n",
       "      <td>56</td>\n",
       "    </tr>\n",
       "    <tr>\n",
       "      <th>2</th>\n",
       "      <td>USC00200032</td>\n",
       "      <td>2008-05-26</td>\n",
       "      <td>TMAX</td>\n",
       "      <td>278</td>\n",
       "    </tr>\n",
       "    <tr>\n",
       "      <th>3</th>\n",
       "      <td>USC00205563</td>\n",
       "      <td>2005-11-11</td>\n",
       "      <td>TMAX</td>\n",
       "      <td>139</td>\n",
       "    </tr>\n",
       "    <tr>\n",
       "      <th>4</th>\n",
       "      <td>USC00200230</td>\n",
       "      <td>2014-02-27</td>\n",
       "      <td>TMAX</td>\n",
       "      <td>-106</td>\n",
       "    </tr>\n",
       "    <tr>\n",
       "      <th>...</th>\n",
       "      <td>...</td>\n",
       "      <td>...</td>\n",
       "      <td>...</td>\n",
       "      <td>...</td>\n",
       "    </tr>\n",
       "    <tr>\n",
       "      <th>165080</th>\n",
       "      <td>USC00205822</td>\n",
       "      <td>2015-06-09</td>\n",
       "      <td>TMAX</td>\n",
       "      <td>256</td>\n",
       "    </tr>\n",
       "    <tr>\n",
       "      <th>165081</th>\n",
       "      <td>USC00205822</td>\n",
       "      <td>2009-10-06</td>\n",
       "      <td>TMAX</td>\n",
       "      <td>167</td>\n",
       "    </tr>\n",
       "    <tr>\n",
       "      <th>165082</th>\n",
       "      <td>USC00205050</td>\n",
       "      <td>2014-07-14</td>\n",
       "      <td>TMAX</td>\n",
       "      <td>283</td>\n",
       "    </tr>\n",
       "    <tr>\n",
       "      <th>165083</th>\n",
       "      <td>USC00200230</td>\n",
       "      <td>2006-11-29</td>\n",
       "      <td>TMIN</td>\n",
       "      <td>117</td>\n",
       "    </tr>\n",
       "    <tr>\n",
       "      <th>165084</th>\n",
       "      <td>USC00207312</td>\n",
       "      <td>2006-09-04</td>\n",
       "      <td>TMIN</td>\n",
       "      <td>111</td>\n",
       "    </tr>\n",
       "  </tbody>\n",
       "</table>\n",
       "<p>165085 rows × 4 columns</p>\n",
       "</div>"
      ],
      "text/plain": [
       "                 ID        Date Element  Data_Value\n",
       "0       USW00094889  2014-11-12    TMAX          22\n",
       "1       USC00208972  2009-04-29    TMIN          56\n",
       "2       USC00200032  2008-05-26    TMAX         278\n",
       "3       USC00205563  2005-11-11    TMAX         139\n",
       "4       USC00200230  2014-02-27    TMAX        -106\n",
       "...             ...         ...     ...         ...\n",
       "165080  USC00205822  2015-06-09    TMAX         256\n",
       "165081  USC00205822  2009-10-06    TMAX         167\n",
       "165082  USC00205050  2014-07-14    TMAX         283\n",
       "165083  USC00200230  2006-11-29    TMIN         117\n",
       "165084  USC00207312  2006-09-04    TMIN         111\n",
       "\n",
       "[165085 rows x 4 columns]"
      ]
     },
     "execution_count": 95,
     "metadata": {},
     "output_type": "execute_result"
    }
   ],
   "source": [
    "df = pd.read_csv('AnnArborMinMaxTemperature.csv')\n",
    "df"
   ]
  },
  {
   "cell_type": "markdown",
   "metadata": {},
   "source": [
    "Agora faremos a coluna *Date* ser o índice do dataframe e ordenaremos os dados pela cronologia de coleta. Em adição, renomearemos a coluna *Data_Value* para fins de simplicidade e converteremos as temperaturas de décimos de graus Celsius para apenas graus Celsius."
   ]
  },
  {
   "cell_type": "code",
   "execution_count": 96,
   "metadata": {},
   "outputs": [
    {
     "data": {
      "text/html": [
       "<div>\n",
       "<style scoped>\n",
       "    .dataframe tbody tr th:only-of-type {\n",
       "        vertical-align: middle;\n",
       "    }\n",
       "\n",
       "    .dataframe tbody tr th {\n",
       "        vertical-align: top;\n",
       "    }\n",
       "\n",
       "    .dataframe thead th {\n",
       "        text-align: right;\n",
       "    }\n",
       "</style>\n",
       "<table border=\"1\" class=\"dataframe\">\n",
       "  <thead>\n",
       "    <tr style=\"text-align: right;\">\n",
       "      <th></th>\n",
       "      <th>ID</th>\n",
       "      <th>Element</th>\n",
       "      <th>Value</th>\n",
       "    </tr>\n",
       "    <tr>\n",
       "      <th>Date</th>\n",
       "      <th></th>\n",
       "      <th></th>\n",
       "      <th></th>\n",
       "    </tr>\n",
       "  </thead>\n",
       "  <tbody>\n",
       "    <tr>\n",
       "      <th>2005-01-01</th>\n",
       "      <td>USW00004848</td>\n",
       "      <td>TMIN</td>\n",
       "      <td>0.0</td>\n",
       "    </tr>\n",
       "    <tr>\n",
       "      <th>2005-01-01</th>\n",
       "      <td>USC00207320</td>\n",
       "      <td>TMAX</td>\n",
       "      <td>15.0</td>\n",
       "    </tr>\n",
       "    <tr>\n",
       "      <th>2005-01-01</th>\n",
       "      <td>USC00207320</td>\n",
       "      <td>TMIN</td>\n",
       "      <td>-1.1</td>\n",
       "    </tr>\n",
       "    <tr>\n",
       "      <th>2005-01-01</th>\n",
       "      <td>USW00014833</td>\n",
       "      <td>TMIN</td>\n",
       "      <td>-4.4</td>\n",
       "    </tr>\n",
       "    <tr>\n",
       "      <th>2005-01-01</th>\n",
       "      <td>USW00014833</td>\n",
       "      <td>TMAX</td>\n",
       "      <td>3.3</td>\n",
       "    </tr>\n",
       "    <tr>\n",
       "      <th>...</th>\n",
       "      <td>...</td>\n",
       "      <td>...</td>\n",
       "      <td>...</td>\n",
       "    </tr>\n",
       "    <tr>\n",
       "      <th>2015-12-31</th>\n",
       "      <td>USC00200032</td>\n",
       "      <td>TMAX</td>\n",
       "      <td>1.1</td>\n",
       "    </tr>\n",
       "    <tr>\n",
       "      <th>2015-12-31</th>\n",
       "      <td>USC00205050</td>\n",
       "      <td>TMIN</td>\n",
       "      <td>-1.7</td>\n",
       "    </tr>\n",
       "    <tr>\n",
       "      <th>2015-12-31</th>\n",
       "      <td>USC00208202</td>\n",
       "      <td>TMAX</td>\n",
       "      <td>0.0</td>\n",
       "    </tr>\n",
       "    <tr>\n",
       "      <th>2015-12-31</th>\n",
       "      <td>USC00201250</td>\n",
       "      <td>TMIN</td>\n",
       "      <td>-0.6</td>\n",
       "    </tr>\n",
       "    <tr>\n",
       "      <th>2015-12-31</th>\n",
       "      <td>USC00200230</td>\n",
       "      <td>TMIN</td>\n",
       "      <td>-1.7</td>\n",
       "    </tr>\n",
       "  </tbody>\n",
       "</table>\n",
       "<p>165085 rows × 3 columns</p>\n",
       "</div>"
      ],
      "text/plain": [
       "                     ID Element  Value\n",
       "Date                                  \n",
       "2005-01-01  USW00004848    TMIN    0.0\n",
       "2005-01-01  USC00207320    TMAX   15.0\n",
       "2005-01-01  USC00207320    TMIN   -1.1\n",
       "2005-01-01  USW00014833    TMIN   -4.4\n",
       "2005-01-01  USW00014833    TMAX    3.3\n",
       "...                 ...     ...    ...\n",
       "2015-12-31  USC00200032    TMAX    1.1\n",
       "2015-12-31  USC00205050    TMIN   -1.7\n",
       "2015-12-31  USC00208202    TMAX    0.0\n",
       "2015-12-31  USC00201250    TMIN   -0.6\n",
       "2015-12-31  USC00200230    TMIN   -1.7\n",
       "\n",
       "[165085 rows x 3 columns]"
      ]
     },
     "execution_count": 96,
     "metadata": {},
     "output_type": "execute_result"
    }
   ],
   "source": [
    "df = df.set_index('Date')\n",
    "df = df.sort_index()\n",
    "df = df.rename(columns={'Data_Value': 'Value'})\n",
    "df['Value'] = df['Value']/10.0\n",
    "df"
   ]
  },
  {
   "cell_type": "markdown",
   "metadata": {},
   "source": [
    "Separaremos o dataset por intervalos de tempo, sendo:\n",
    "1. Temperaturas registradas de **2005 a 2014**: essas formarão a informação histórica a ser quebrada por possíveis recordes em 2015.\n",
    "2. Temperaturas registradas em **2015**: serão os possíveis recordes.\n",
    "\n",
    "Feito isso, para ambos os dataframes removeremos o ano e manteremos apenas o dia e o mês como índice. Isso permite que foquemos nas diferentes temperaturas de mínimo e máximo de cada dia do ano ao longo dos anos. "
   ]
  },
  {
   "cell_type": "code",
   "execution_count": 97,
   "metadata": {},
   "outputs": [
    {
     "data": {
      "text/html": [
       "<div>\n",
       "<style scoped>\n",
       "    .dataframe tbody tr th:only-of-type {\n",
       "        vertical-align: middle;\n",
       "    }\n",
       "\n",
       "    .dataframe tbody tr th {\n",
       "        vertical-align: top;\n",
       "    }\n",
       "\n",
       "    .dataframe thead th {\n",
       "        text-align: right;\n",
       "    }\n",
       "</style>\n",
       "<table border=\"1\" class=\"dataframe\">\n",
       "  <thead>\n",
       "    <tr style=\"text-align: right;\">\n",
       "      <th></th>\n",
       "      <th>ID</th>\n",
       "      <th>Element</th>\n",
       "      <th>Value</th>\n",
       "    </tr>\n",
       "    <tr>\n",
       "      <th>Date</th>\n",
       "      <th></th>\n",
       "      <th></th>\n",
       "      <th></th>\n",
       "    </tr>\n",
       "  </thead>\n",
       "  <tbody>\n",
       "    <tr>\n",
       "      <th>01-01</th>\n",
       "      <td>USW00004848</td>\n",
       "      <td>TMIN</td>\n",
       "      <td>0.0</td>\n",
       "    </tr>\n",
       "    <tr>\n",
       "      <th>01-01</th>\n",
       "      <td>USC00207320</td>\n",
       "      <td>TMAX</td>\n",
       "      <td>15.0</td>\n",
       "    </tr>\n",
       "    <tr>\n",
       "      <th>01-01</th>\n",
       "      <td>USC00207320</td>\n",
       "      <td>TMIN</td>\n",
       "      <td>-1.1</td>\n",
       "    </tr>\n",
       "    <tr>\n",
       "      <th>01-01</th>\n",
       "      <td>USW00014833</td>\n",
       "      <td>TMIN</td>\n",
       "      <td>-4.4</td>\n",
       "    </tr>\n",
       "    <tr>\n",
       "      <th>01-01</th>\n",
       "      <td>USW00014833</td>\n",
       "      <td>TMAX</td>\n",
       "      <td>3.3</td>\n",
       "    </tr>\n",
       "    <tr>\n",
       "      <th>...</th>\n",
       "      <td>...</td>\n",
       "      <td>...</td>\n",
       "      <td>...</td>\n",
       "    </tr>\n",
       "    <tr>\n",
       "      <th>12-31</th>\n",
       "      <td>USC00202308</td>\n",
       "      <td>TMIN</td>\n",
       "      <td>-10.0</td>\n",
       "    </tr>\n",
       "    <tr>\n",
       "      <th>12-31</th>\n",
       "      <td>USC00205563</td>\n",
       "      <td>TMAX</td>\n",
       "      <td>-2.8</td>\n",
       "    </tr>\n",
       "    <tr>\n",
       "      <th>12-31</th>\n",
       "      <td>USC00205451</td>\n",
       "      <td>TMIN</td>\n",
       "      <td>-11.1</td>\n",
       "    </tr>\n",
       "    <tr>\n",
       "      <th>12-31</th>\n",
       "      <td>USC00205563</td>\n",
       "      <td>TMIN</td>\n",
       "      <td>-11.7</td>\n",
       "    </tr>\n",
       "    <tr>\n",
       "      <th>12-31</th>\n",
       "      <td>USC00205822</td>\n",
       "      <td>TMAX</td>\n",
       "      <td>-2.8</td>\n",
       "    </tr>\n",
       "  </tbody>\n",
       "</table>\n",
       "<p>151328 rows × 3 columns</p>\n",
       "</div>"
      ],
      "text/plain": [
       "                ID Element  Value\n",
       "Date                             \n",
       "01-01  USW00004848    TMIN    0.0\n",
       "01-01  USC00207320    TMAX   15.0\n",
       "01-01  USC00207320    TMIN   -1.1\n",
       "01-01  USW00014833    TMIN   -4.4\n",
       "01-01  USW00014833    TMAX    3.3\n",
       "...            ...     ...    ...\n",
       "12-31  USC00202308    TMIN  -10.0\n",
       "12-31  USC00205563    TMAX   -2.8\n",
       "12-31  USC00205451    TMIN  -11.1\n",
       "12-31  USC00205563    TMIN  -11.7\n",
       "12-31  USC00205822    TMAX   -2.8\n",
       "\n",
       "[151328 rows x 3 columns]"
      ]
     },
     "execution_count": 97,
     "metadata": {},
     "output_type": "execute_result"
    }
   ],
   "source": [
    "df2005_2014 = df[:'2014-12-31']         # dados anteriores a 31 de dezembro de 2014\n",
    "df2015 = df['2015-01-01':]              # dados posteriores a 1 de janeiro de 2015\n",
    "\n",
    "df2005_2014.index = df2005_2014.index.str[5:]       \n",
    "df2015.index = df2015.index.str[5:]\n",
    "\n",
    "df2005_2014"
   ]
  },
  {
   "cell_type": "markdown",
   "metadata": {},
   "source": [
    "Levando em consideração que a distinção de ano foram removidas. A função *min_and_max* agrupa todas as medições feitas em um mesmo dia do ano pelas diversas estações de coleta. Em seguida, para cada dia, identifica a menor das emperaturas mínimas e a maior das temperaturas máximas, construindo um série de mínimos e outra de máximos. Cada uma deve ter tamanho 365 ao final da execução.\n",
    "\n",
    "Construiremos uma série de mínimos e outra de máximos para o período 2005-2014. E também outra de mínimos e de máximos para 2015."
   ]
  },
  {
   "cell_type": "code",
   "execution_count": 98,
   "metadata": {},
   "outputs": [],
   "source": [
    "def min_and_max(dataframe):\n",
    "    minSerie = pd.Series(dtype='float64')\n",
    "    maxSerie = pd.Series(dtype='float64')\n",
    "\n",
    "    for group, frame in dataframe.groupby(level=0):\n",
    "        minFrame = frame[frame['Element']=='TMIN']\n",
    "        minValue = minFrame['Value'].min()\n",
    "        minSerie = minSerie.append(pd.Series([minValue], index=[group]))\n",
    "\n",
    "        maxFrame = frame[frame['Element']=='TMAX']\n",
    "        maxValue = maxFrame['Value'].max()\n",
    "        maxSerie = maxSerie.append(pd.Series([maxValue], index=[group]))\n",
    "    \n",
    "    return minSerie, maxSerie\n",
    "\n",
    "minSerie2005_2014, maxSerie2005_2014 = min_and_max(df2005_2014)\n",
    "minSerie2015, maxSerie2015 = min_and_max(df2015)"
   ]
  },
  {
   "cell_type": "markdown",
   "metadata": {},
   "source": [
    "A seguir, faremos o reconhecimento dos recordes batidos em 2015. Utilizaremos compreensão de listas para construir os recordes de mínimos e recordes de máximo.\n",
    "* Se uma temperatura de mínimo de um dia x de 2015 for menor que uma temperatura de mínimo do mesmo dia x em 2005-2014, então houve um recorde de mínimo.\n",
    "* Se uma temperatura de máximo de um dia x de 2015 for maior que uma temperatura de máximo do mesmo dia x em 2005-2014, então houve um recorde de máximo."
   ]
  },
  {
   "cell_type": "code",
   "execution_count": 99,
   "metadata": {
    "scrolled": true
   },
   "outputs": [],
   "source": [
    "minRecords2015 = [minSerie2015[x] if minSerie2015[x] < minSerie2005_2014[x] else np.nan for x in minSerie2015.index]\n",
    "maxRecords2015 = [maxSerie2015[x] if maxSerie2015[x] > maxSerie2005_2014[x] else np.nan for x in maxSerie2015.index]"
   ]
  },
  {
   "cell_type": "markdown",
   "metadata": {},
   "source": [
    "Removendo o dia 29 de fevereiro da série história de 2005-2014, pois 2015 não foi um ano bissexto e esta inconsistência pode acarretar em erros durante a elaboração da visualização final."
   ]
  },
  {
   "cell_type": "code",
   "execution_count": 100,
   "metadata": {},
   "outputs": [],
   "source": [
    "maxSerie2005_2014 = maxSerie2005_2014.drop(labels='02-29')\n",
    "minSerie2005_2014 = minSerie2005_2014.drop(labels='02-29')"
   ]
  },
  {
   "cell_type": "markdown",
   "metadata": {},
   "source": [
    "## Construindo a visualização"
   ]
  },
  {
   "cell_type": "code",
   "execution_count": 101,
   "metadata": {
    "scrolled": false
   },
   "outputs": [
    {
     "data": {
      "image/png": "[encoded data removed]",
      "text/plain": [
       "<Figure size 720x288 with 1 Axes>"
      ]
     },
     "metadata": {
      "needs_background": "light"
     },
     "output_type": "display_data"
    }
   ],
   "source": [
    "# Vetor de datas que servem como labels para o eixo x\n",
    "datesX = np.arange('2015-01-01','2016-01-01', dtype='datetime64[D]')\n",
    "datesX = list(map(pd.to_datetime, datesX))\n",
    "\n",
    "plt.figure(figsize=(10,4))\n",
    "\n",
    "# Dois gráficos de linha, sendo uma linha para as temperaturas de mínimo e outra para as de máximo (2005-2014)\n",
    "plt.plot(datesX, maxSerie2005_2014, label='Highest Temperature 2005-2014', alpha=0.6, lw=1.2, color='orangered')\n",
    "plt.plot(datesX, minSerie2005_2014, label='Lowest Temperature 2005-2014', alpha=0.6, lw=1.2, color='darkslateblue')\n",
    "\n",
    "# Dois gráficos de pontos com os recordes de temperaturas de mínimo e de máximo quebrados em 2015\n",
    "plt.scatter(datesX, maxRecords2015, label='Max records broken in 2015', s=25, color='orangered')\n",
    "plt.scatter(datesX, minRecords2015, label='Min records broken in 2015', s=25, color='darkslateblue')\n",
    "\n",
    "plt.gca().fill_between(datesX, minSerie2005_2014, maxSerie2005_2014, facecolor='grey', alpha=0.1)\n",
    "plt.title('Daily Temperature Records Broken in Ann Arbor, Michigan, 2015')\n",
    "plt.ylabel('Temperature (ºC)')\n",
    "plt.legend(loc='center left', bbox_to_anchor=(1, 0.5))\n",
    "\n",
    "ax = plt.gca()\n",
    "ax.spines['top'].set_visible(False)           # Removendo os 4 spines (topo, direita, baixo, esquerda)\n",
    "ax.spines['right'].set_visible(False)\n",
    "ax.spines['bottom'].set_visible(False)\n",
    "ax.spines['left'].set_visible(False)                \n",
    "ax.xaxis.set_major_locator(mdates.MonthLocator())            # Formatando para que todos os 12 meses tenham labels no eixo x \n",
    "ax.xaxis.set_major_formatter(mdates.DateFormatter('%b'))      # Formatando para que os meses sejam representados por siglas\n",
    "plt.savefig('daily_temp.png', dpi=400, bbox_inches='tight')"
   ]
  },
  {
   "cell_type": "markdown",
   "metadata": {},
   "source": [
    "* Podemos ver pela tendência geral das linhas laranja e azul que os meses de maio a outubro tem temperaturas mais altas e entre os meses de novembro e abril as temperaturas caem. Representando claramente as estações do ano.\n",
    "* Em relação aos pontos azuis representando os recordes de mínimo batidos em 2015, há uma concentração de recordes diários próximos ao fim de fevereiro e início de abril. A população de Ann Arbor enfrentou um fim de inverno ainda mais frio em 2015.\n",
    "* Em contrapartida, há uma nuvem de recordes de máximo ao longo do mês de dezembro. Sendo interessante concluir que no ano de 2015, Ann Arbor passou por um início de inverno caracterizado por temperaturas de máximo elevadas.\n"
   ]
  }
 ],
 "metadata": {
  "kernelspec": {
   "display_name": "Python 3",
   "language": "python",
   "name": "python3"
  },
  "language_info": {
   "codemirror_mode": {
    "name": "ipython",
    "version": 3
   },
   "file_extension": ".py",
   "mimetype": "text/x-python",
   "name": "python",
   "nbconvert_exporter": "python",
   "pygments_lexer": "ipython3",
   "version": "3.6.9"
  }
 },
 "nbformat": 4,
 "nbformat_minor": 1
}
